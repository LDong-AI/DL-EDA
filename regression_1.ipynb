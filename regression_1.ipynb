{
 "cells": [
  {
   "cell_type": "code",
   "execution_count": 6,
   "id": "070f0160-04bc-45df-86b7-dba6a27d9482",
   "metadata": {},
   "outputs": [],
   "source": [
    "import numpy as np\n",
    "import matplotlib.pyplot as plt"
   ]
  },
  {
   "cell_type": "markdown",
   "id": "0f1456e7-837d-45e1-a2b4-1077409b9e10",
   "metadata": {},
   "source": [
    "# 读入训练数据"
   ]
  },
  {
   "cell_type": "code",
   "execution_count": 7,
   "id": "a5f7c06b-6026-4c46-a636-29b727ed38b5",
   "metadata": {},
   "outputs": [],
   "source": [
    "train=np.loadtxt('click.csv',delimiter=',',skiprows=1)"
   ]
  },
  {
   "cell_type": "markdown",
   "id": "77442efd-b84d-4a03-b99a-892996603dee",
   "metadata": {},
   "source": [
    "函数loadtxt用于从文本加载数据;\n",
    "delimiter分隔符格;这里的skiprows是指跳过前1行, 如果设置skiprows=2, 就会跳过前两行"
   ]
  },
  {
   "cell_type": "markdown",
   "id": "510f68a6-697d-4b69-9a65-afda84d1b4ff",
   "metadata": {},
   "source": [
    "Python中提供了list容器，可以当作数组使用。但列表中的元素可以是任何对象，因此列表中保存的是对象的指针，这样一来，为了保存一个简单的列表[1,2,3]。就需要三个指针和三个整数对象。对于数值运算来说，这种结构显然不够高效。\n",
    "Python虽然也提供了array模块，但其只支持一维数组，不支持多维数组，也没有各种运算函数。因而不适合数值运算。\n"
   ]
  },
  {
   "cell_type": "code",
   "execution_count": 8,
   "id": "b02a597d-73f4-43b7-b241-ca7e917a773b",
   "metadata": {},
   "outputs": [],
   "source": [
    "train_x = train[:,0];\n",
    "train_y = train[:,1];"
   ]
  },
  {
   "cell_type": "code",
   "execution_count": 9,
   "id": "8c034cbd-f51d-4cd2-9353-6abc9390953d",
   "metadata": {},
   "outputs": [
    {
     "data": {
      "text/plain": [
       "[<matplotlib.lines.Line2D at 0x25e443b1970>]"
      ]
     },
     "execution_count": 9,
     "metadata": {},
     "output_type": "execute_result"
    },
    {
     "data": {
      "image/png": "[encoded data removed]",
      "text/plain": [
       "<Figure size 432x288 with 1 Axes>"
      ]
     },
     "metadata": {
      "needs_background": "light"
     },
     "output_type": "display_data"
    }
   ],
   "source": [
    "plt.plot(train_x,train_y,'o')"
   ]
  },
  {
   "cell_type": "markdown",
   "id": "f8c07ce4-2263-4e2f-b40f-1951ac61930d",
   "metadata": {},
   "source": [
    "# 1. 用一次函数拟合"
   ]
  },
  {
   "cell_type": "markdown",
   "id": "2794ba7a-8462-492c-a5d5-6b0960e27787",
   "metadata": {},
   "source": [
    "#参数初始化"
   ]
  },
  {
   "cell_type": "code",
   "execution_count": 10,
   "id": "831e2e48-8cce-4bf5-a2d8-8f0e7241e1e4",
   "metadata": {},
   "outputs": [],
   "source": [
    "theta0=np.random.rand()\n",
    "theta1=np.random.rand()"
   ]
  },
  {
   "cell_type": "markdown",
   "id": "c80633b3-015b-41d9-ab5c-daa2b53c3dd3",
   "metadata": {},
   "source": [
    "#预测函数"
   ]
  },
  {
   "cell_type": "code",
   "execution_count": 11,
   "id": "abb91a90-3d23-466e-a188-a80295cd1b7b",
   "metadata": {},
   "outputs": [],
   "source": [
    "def f(x):\n",
    "    return theta0+theta1*x"
   ]
  },
  {
   "cell_type": "markdown",
   "id": "a554214d-6fa1-4eb9-9337-031db2e4fa37",
   "metadata": {},
   "source": [
    "#目标函数"
   ]
  },
  {
   "cell_type": "code",
   "execution_count": 12,
   "id": "611b5af5-5187-4149-a2de-5fd55bb54b56",
   "metadata": {},
   "outputs": [],
   "source": [
    "def E(x,y):\n",
    "    return 0.5*np.sum((y-f(x))**2)"
   ]
  },
  {
   "cell_type": "markdown",
   "id": "3a96c346-c57c-44af-b2a3-969cab805f4f",
   "metadata": {},
   "source": [
    "#数据标准化\n",
    "z=(x-mu)/sigma      sigma ：标准差"
   ]
  },
  {
   "cell_type": "code",
   "execution_count": 13,
   "id": "c920d18e-b958-4eec-889c-0a1673d06ca0",
   "metadata": {},
   "outputs": [],
   "source": [
    "mu=train_x.mean()\n",
    "sigma=train_x.std()"
   ]
  },
  {
   "cell_type": "code",
   "execution_count": 14,
   "id": "03ed2fea-2388-4b7b-bfb9-499de2d6b45c",
   "metadata": {},
   "outputs": [],
   "source": [
    "def standardize(x):\n",
    "    return (x-mu)/sigma"
   ]
  },
  {
   "cell_type": "code",
   "execution_count": 15,
   "id": "979726a5-cd78-430e-8f78-277c696d2659",
   "metadata": {},
   "outputs": [],
   "source": [
    "train_z=standardize(train_x)"
   ]
  },
  {
   "cell_type": "markdown",
   "id": "82e7b704-06df-4693-aedb-cbed805ccf07",
   "metadata": {},
   "source": [
    "#学习率"
   ]
  },
  {
   "cell_type": "code",
   "execution_count": 16,
   "id": "1ea90641-1810-4a04-b5f0-83278d8cdeb3",
   "metadata": {},
   "outputs": [],
   "source": [
    "ETA = 1e-3"
   ]
  },
  {
   "cell_type": "code",
   "execution_count": 17,
   "id": "d5c8df04-7059-4989-a2c7-5b6fa73e2bde",
   "metadata": {},
   "outputs": [],
   "source": [
    "#误差的差值\n",
    "diff=1\n",
    "\n",
    "#更新次数\n",
    "count=0\n"
   ]
  },
  {
   "cell_type": "code",
   "execution_count": null,
   "id": "92581831-906a-4b31-abb3-8c834814a56f",
   "metadata": {},
   "outputs": [],
   "source": [
    "# 直到误差的差值小于0.01为止，重复参数更新\n",
    "error = E(train_z,train_y)\n",
    "while diff>1e-2:\n",
    "    # 更新参数并保存到临时变量，注意，计算更新的Theta1的时候不要用最新的theta0\n",
    "    tmp_theta0 = theta0 - ETA * np.sum((f(train_z)-train_y))\n",
    "    tmp_theta1 = theta1 - ETA * np.sum((f(train_z)-train_y)*train_z)\n",
    "    \n",
    "    # 更新参数\n",
    "    theta0 = tmp_theta0\n",
    "    theta1 = tmp_theta1\n",
    "    \n",
    "    # 计算与上一次误差的差值\n",
    "    current_error = E(train_z,train_y)\n",
    "    diff  = error - current_error\n",
    "    error = current_error\n",
    "    \n",
    "    # 输出日志\n",
    "    count += 1\n",
    "    log = '第{}次：theta0 = {:.3f}, theta1 = {:.3f}, 差值={: .4f}'\n",
    "    print(log.format(count,theta0,theta1,diff))"
   ]
  },
  {
   "cell_type": "markdown",
   "id": "950caf76-563c-4f0d-95a1-f5c48bb5991a",
   "metadata": {},
   "source": [
    "# 绘图确认"
   ]
  },
  {
   "cell_type": "code",
   "execution_count": 21,
   "id": "936d4936-662b-422f-aec5-84e05e66ca61",
   "metadata": {},
   "outputs": [
    {
     "data": {
      "image/png": "[encoded data removed]",
      "text/plain": [
       "<Figure size 432x288 with 1 Axes>"
      ]
     },
     "metadata": {
      "needs_background": "light"
     },
     "output_type": "display_data"
    }
   ],
   "source": [
    "x = np.linspace(-3,3,100)\n",
    "plt.plot(train_z,train_y,'o')\n",
    "plt.plot(x,f(x))\n",
    "plt.show()"
   ]
  },
  {
   "cell_type": "code",
   "execution_count": null,
   "id": "083f8c53-b115-4e54-b795-432dbbfbaab3",
   "metadata": {},
   "outputs": [],
   "source": []
  }
 ],
 "metadata": {
  "kernelspec": {
   "display_name": "Python 3 (ipykernel)",
   "language": "python",
   "name": "python3"
  },
  "language_info": {
   "codemirror_mode": {
    "name": "ipython",
    "version": 3
   },
   "file_extension": ".py",
   "mimetype": "text/x-python",
   "name": "python",
   "nbconvert_exporter": "python",
   "pygments_lexer": "ipython3",
   "version": "3.9.7"
  }
 },
 "nbformat": 4,
 "nbformat_minor": 5
}
