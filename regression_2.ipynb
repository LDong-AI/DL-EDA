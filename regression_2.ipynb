{
 "cells": [
  {
   "cell_type": "markdown",
   "id": "eb3111d6-a92b-4fba-bcea-2694cca71244",
   "metadata": {},
   "source": [
    "# 2.多项式回归"
   ]
  },
  {
   "cell_type": "code",
   "execution_count": null,
   "id": "59d2c929-7eed-4ecc-ba98-96002038c79b",
   "metadata": {},
   "outputs": [],
   "source": [
    "import numpy as np\n",
    "import matplotlib.pyplot as plt"
   ]
  },
  {
   "cell_type": "code",
   "execution_count": 79,
   "id": "83f18680-b9b3-4833-b990-8a812af19eec",
   "metadata": {},
   "outputs": [],
   "source": [
    "train=np.loadtxt('click.csv',delimiter=',',skiprows=1)\n",
    "train_x = train[:,0];\n",
    "train_y = train[:,1];"
   ]
  },
  {
   "cell_type": "code",
   "execution_count": 80,
   "id": "68cdc2e3-e22a-4359-9aa3-f5bc2f9d0067",
   "metadata": {},
   "outputs": [],
   "source": [
    "mu=train_x.mean()\n",
    "sigma=train_x.std()\n",
    "def standardize(x):\n",
    "    return (x-mu)/sigma"
   ]
  },
  {
   "cell_type": "code",
   "execution_count": 81,
   "id": "bbe741f4-0724-49fd-8bd0-5b7653662997",
   "metadata": {},
   "outputs": [],
   "source": [
    "train_z=standardize(train_x)"
   ]
  },
  {
   "cell_type": "code",
   "execution_count": 82,
   "id": "7c3c2663-1c90-47ac-b05e-cc22679e86dc",
   "metadata": {},
   "outputs": [],
   "source": [
    "#学习率\n",
    "ETA = 1e-3"
   ]
  },
  {
   "cell_type": "code",
   "execution_count": 83,
   "id": "fafb2b29-0931-4138-b1ba-682a7f4f40fe",
   "metadata": {},
   "outputs": [],
   "source": [
    "def E(x,y):\n",
    "    return 0.5*np.sum((y-f(x))**2)"
   ]
  },
  {
   "cell_type": "code",
   "execution_count": 84,
   "id": "a6b56a7e-5196-46b9-b18b-d1da0f3d5a47",
   "metadata": {},
   "outputs": [],
   "source": [
    "#初始化参数\n",
    "theta = np.random.rand(3)\n",
    "\n",
    "#创建训练数据的矩阵(输入为经过标准化的x)\n",
    "def to_matrix(x):\n",
    "    return np.vstack([np.ones(x.shape[0]), x, x**2]).T"
   ]
  },
  {
   "cell_type": "code",
   "execution_count": 85,
   "id": "09468f8f-9763-4473-a1e9-657dc0aa225a",
   "metadata": {},
   "outputs": [],
   "source": [
    "X = to_matrix(train_z)"
   ]
  },
  {
   "cell_type": "code",
   "execution_count": 86,
   "id": "d8b41852-a9e6-45ea-8759-e1f4895da43c",
   "metadata": {},
   "outputs": [],
   "source": [
    "#预测函数\n",
    "def f(x):\n",
    "    return np.dot(x, theta)\n",
    "# 矩阵与向量乘法\n",
    "# 矩阵x为mxn阶，向量y为n阶向量，则矩阵x和向量y可以进行乘法运算，结果为m阶向量。\n",
    "# 进行运算时，会首先将后面一项进行自动转置操作，之后再进行乘法运算。\n",
    "# 运算结果再进行转置后得到最终的输出结果。"
   ]
  },
  {
   "cell_type": "code",
   "execution_count": 87,
   "id": "a1bd7f0d-1ca7-4d85-82ef-df9cd21d8bbe",
   "metadata": {},
   "outputs": [],
   "source": [
    "#误差的差值\n",
    "diff = 1\n",
    "\n",
    "#重复学习\n",
    "error = E(X,train_y)\n",
    "while diff > 1e-2:\n",
    "    #更新参数\n",
    "    theta = theta - ETA * np.dot(f(X) - train_y, X)    # 直接用矩阵的乘法完成运算\n",
    "    #计算与上一次误差的差值\n",
    "    current_error = E(X,train_y)\n",
    "    diff = error - current_error\n",
    "    error = current_error"
   ]
  },
  {
   "cell_type": "code",
   "execution_count": 88,
   "id": "75720b54-0c1c-4c30-a2b5-10d8e07e9c8c",
   "metadata": {},
   "outputs": [
    {
     "data": {
      "image/png": "[encoded data removed]",
      "text/plain": [
       "<Figure size 432x288 with 1 Axes>"
      ]
     },
     "metadata": {
      "needs_background": "light"
     },
     "output_type": "display_data"
    }
   ],
   "source": [
    "x = np.linspace(-3,3,100)\n",
    "plt.plot(train_z,train_y,'o')\n",
    "plt.plot(x,f(to_matrix(x)))\n",
    "plt.show()"
   ]
  },
  {
   "cell_type": "markdown",
   "id": "a6c8fb8d-2037-4ae6-90d0-f4c0c4ba0eac",
   "metadata": {},
   "source": [
    "# 训练误差的迭代结果：\n",
    "横轴：重复次数\n",
    "纵轴：均方误差"
   ]
  },
  {
   "cell_type": "code",
   "execution_count": 89,
   "id": "36b8feae-6181-41ee-86d8-b2d36d758b68",
   "metadata": {},
   "outputs": [],
   "source": [
    "# 均方误差\n",
    "def MSE(x,y):\n",
    "    return (1/x.shape[0])*np.sum((y-f(x))**2)"
   ]
  },
  {
   "cell_type": "code",
   "execution_count": 92,
   "id": "5f8f5cec-0fb0-4764-80c8-59ce7711fde7",
   "metadata": {},
   "outputs": [],
   "source": [
    "# 均方误差的历史记录\n",
    "errors = []\n",
    "\n",
    "#误差的差值\n",
    "diff = 1\n",
    "\n",
    "theta = np.random.rand(3)\n",
    "#重复学习\n",
    "errors.append(MSE(X,train_y))\n",
    "while diff > 1e-2:\n",
    "    #更新参数\n",
    "    theta = theta - ETA * np.dot(f(X) - train_y, X)    # 直接用矩阵的乘法完成运算\n",
    "    #计算与上一次误差的差值\n",
    "    errors.append(MSE(X,train_y))\n",
    "    diff = errors[-2] - errors[-1]\n"
   ]
  },
  {
   "cell_type": "code",
   "execution_count": 93,
   "id": "38bc0210-9d20-4194-a262-8a5f9c21800b",
   "metadata": {},
   "outputs": [
    {
     "data": {
      "image/png": "[encoded data removed]",
      "text/plain": [
       "<Figure size 432x288 with 1 Axes>"
      ]
     },
     "metadata": {
      "needs_background": "light"
     },
     "output_type": "display_data"
    }
   ],
   "source": [
    "# 绘制误差变化图\n",
    "x = np.arange(len(errors))\n",
    "\n",
    "plt.plot(x,errors)\n",
    "plt.show()"
   ]
  },
  {
   "cell_type": "markdown",
   "id": "2d074732-9b92-4cd1-8906-a2aad9a10945",
   "metadata": {},
   "source": [
    "# 随机梯度下降法"
   ]
  },
  {
   "cell_type": "code",
   "execution_count": null,
   "id": "cf0cee8b-192a-4f11-a951-a82ed8b3dc83",
   "metadata": {},
   "outputs": [],
   "source": []
  }
 ],
 "metadata": {
  "kernelspec": {
   "display_name": "Python 3 (ipykernel)",
   "language": "python",
   "name": "python3"
  },
  "language_info": {
   "codemirror_mode": {
    "name": "ipython",
    "version": 3
   },
   "file_extension": ".py",
   "mimetype": "text/x-python",
   "name": "python",
   "nbconvert_exporter": "python",
   "pygments_lexer": "ipython3",
   "version": "3.9.7"
  }
 },
 "nbformat": 4,
 "nbformat_minor": 5
}
